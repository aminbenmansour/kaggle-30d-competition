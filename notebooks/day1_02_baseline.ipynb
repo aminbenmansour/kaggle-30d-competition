{
 "cells": [
  {
   "cell_type": "code",
   "metadata": {
    "cell_id": "f657a59d14f640bf916aca1e404e8fdb",
    "tags": [],
    "deepnote_to_be_reexecuted": false,
    "source_hash": "b7c80133",
    "execution_start": 1655311623873,
    "execution_millis": 1305,
    "deepnote_cell_type": "code",
    "deepnote_cell_height": 189
   },
   "source": "import pandas as pd\nimport numpy as np\nfrom sklearn.preprocessing import OrdinalEncoder\nfrom sklearn.model_selection import train_test_split\nfrom sklearn.ensemble import RandomForestRegressor\nfrom sklearn.metrics import mean_squared_error\n",
   "execution_count": 1,
   "outputs": []
  },
  {
   "cell_type": "code",
   "source": "%%capture\n!pip install xgboost\n\nfrom xgboost import XGBRegressor",
   "metadata": {
    "cell_id": "d94bbcea1eef42689f6732cd717fb59b",
    "tags": [],
    "deepnote_to_be_reexecuted": false,
    "source_hash": "72c93974",
    "execution_start": 1655311625184,
    "execution_millis": 3689,
    "deepnote_cell_type": "code",
    "deepnote_cell_height": 135
   },
   "outputs": [],
   "execution_count": 2
  },
  {
   "cell_type": "code",
   "source": "df = pd.read_csv(\"../data/output/01_train_folds.csv\")\ndf_test = pd.read_csv(\"../data/input/test.csv\")",
   "metadata": {
    "cell_id": "c2bc2624c2b447449638c3d043e8dec9",
    "tags": [],
    "deepnote_to_be_reexecuted": false,
    "source_hash": "872bdd48",
    "execution_start": 1655311628880,
    "execution_millis": 1929,
    "deepnote_cell_type": "code",
    "deepnote_cell_height": 99
   },
   "outputs": [],
   "execution_count": 3
  },
  {
   "cell_type": "code",
   "source": "df_test.head()",
   "metadata": {
    "cell_id": "42b39079fbdc43d6b21447188aa1d08e",
    "tags": [],
    "deepnote_to_be_reexecuted": false,
    "source_hash": "f6325a18",
    "execution_start": 1655311630819,
    "execution_millis": 762,
    "deepnote_cell_type": "code",
    "deepnote_cell_height": 410
   },
   "outputs": [
    {
     "output_type": "execute_result",
     "execution_count": 4,
     "data": {
      "application/vnd.deepnote.dataframe.v3+json": {
       "column_count": 25,
       "row_count": 5,
       "columns": [
        {
         "name": "id",
         "dtype": "int64",
         "stats": {
          "unique_count": 5,
          "nan_count": 0,
          "min": "0",
          "max": "17",
          "histogram": [
           {
            "bin_start": 0,
            "bin_end": 1.7,
            "count": 1
           },
           {
            "bin_start": 1.7,
            "bin_end": 3.4,
            "count": 0
           },
           {
            "bin_start": 3.4,
            "bin_end": 5.1,
            "count": 1
           },
           {
            "bin_start": 5.1,
            "bin_end": 6.8,
            "count": 0
           },
           {
            "bin_start": 6.8,
            "bin_end": 8.5,
            "count": 0
           },
           {
            "bin_start": 8.5,
            "bin_end": 10.2,
            "count": 0
           },
           {
            "bin_start": 10.2,
            "bin_end": 11.9,
            "count": 0
           },
           {
            "bin_start": 11.9,
            "bin_end": 13.6,
            "count": 0
           },
           {
            "bin_start": 13.6,
            "bin_end": 15.299999999999999,
            "count": 1
           },
           {
            "bin_start": 15.299999999999999,
            "bin_end": 17,
            "count": 2
           }
          ]
         }
        },
        {
         "name": "cat0",
         "dtype": "object",
         "stats": {
          "unique_count": 2,
          "nan_count": 0,
          "categories": [
           {
            "name": "B",
            "count": 4
           },
           {
            "name": "A",
            "count": 1
           }
          ]
         }
        },
        {
         "name": "cat1",
         "dtype": "object",
         "stats": {
          "unique_count": 2,
          "nan_count": 0,
          "categories": [
           {
            "name": "B",
            "count": 4
           },
           {
            "name": "A",
            "count": 1
           }
          ]
         }
        },
        {
         "name": "cat2",
         "dtype": "object",
         "stats": {
          "unique_count": 2,
          "nan_count": 0,
          "categories": [
           {
            "name": "A",
            "count": 4
           },
           {
            "name": "B",
            "count": 1
           }
          ]
         }
        },
        {
         "name": "cat3",
         "dtype": "object",
         "stats": {
          "unique_count": 2,
          "nan_count": 0,
          "categories": [
           {
            "name": "C",
            "count": 4
           },
           {
            "name": "A",
            "count": 1
           }
          ]
         }
        },
        {
         "name": "cat4",
         "dtype": "object",
         "stats": {
          "unique_count": 1,
          "nan_count": 0,
          "categories": [
           {
            "name": "B",
            "count": 5
           }
          ]
         }
        },
        {
         "name": "cat5",
         "dtype": "object",
         "stats": {
          "unique_count": 3,
          "nan_count": 0,
          "categories": [
           {
            "name": "B",
            "count": 2
           },
           {
            "name": "C",
            "count": 2
           },
           {
            "name": "D",
            "count": 1
           }
          ]
         }
        },
        {
         "name": "cat6",
         "dtype": "object",
         "stats": {
          "unique_count": 1,
          "nan_count": 0,
          "categories": [
           {
            "name": "A",
            "count": 5
           }
          ]
         }
        },
        {
         "name": "cat7",
         "dtype": "object",
         "stats": {
          "unique_count": 1,
          "nan_count": 0,
          "categories": [
           {
            "name": "E",
            "count": 5
           }
          ]
         }
        },
        {
         "name": "cat8",
         "dtype": "object",
         "stats": {
          "unique_count": 4,
          "nan_count": 0,
          "categories": [
           {
            "name": "C",
            "count": 2
           },
           {
            "name": "E",
            "count": 1
           },
           {
            "name": "2 others",
            "count": 2
           }
          ]
         }
        },
        {
         "name": "cat9",
         "dtype": "object",
         "stats": {
          "unique_count": 5,
          "nan_count": 0,
          "categories": [
           {
            "name": "I",
            "count": 1
           },
           {
            "name": "H",
            "count": 1
           },
           {
            "name": "3 others",
            "count": 3
           }
          ]
         }
        },
        {
         "name": "cont0",
         "dtype": "float64",
         "stats": {
          "unique_count": 5,
          "nan_count": 0,
          "min": "0.2962273176867542",
          "max": "1.031238950834945",
          "histogram": [
           {
            "bin_start": 0.2962273176867542,
            "bin_end": 0.3697284810015733,
            "count": 1
           },
           {
            "bin_start": 0.3697284810015733,
            "bin_end": 0.44322964431639233,
            "count": 1
           },
           {
            "bin_start": 0.44322964431639233,
            "bin_end": 0.5167308076312114,
            "count": 0
           },
           {
            "bin_start": 0.5167308076312114,
            "bin_end": 0.5902319709460305,
            "count": 2
           },
           {
            "bin_start": 0.5902319709460305,
            "bin_end": 0.6637331342608497,
            "count": 0
           },
           {
            "bin_start": 0.6637331342608497,
            "bin_end": 0.7372342975756687,
            "count": 0
           },
           {
            "bin_start": 0.7372342975756687,
            "bin_end": 0.8107354608904878,
            "count": 0
           },
           {
            "bin_start": 0.8107354608904878,
            "bin_end": 0.8842366242053068,
            "count": 0
           },
           {
            "bin_start": 0.8842366242053068,
            "bin_end": 0.9577377875201258,
            "count": 0
           },
           {
            "bin_start": 0.9577377875201258,
            "bin_end": 1.031238950834945,
            "count": 1
           }
          ]
         }
        },
        {
         "name": "cont1",
         "dtype": "float64",
         "stats": {
          "unique_count": 5,
          "nan_count": 0,
          "min": "0.2961294599510076",
          "max": "0.7290043250751481",
          "histogram": [
           {
            "bin_start": 0.2961294599510076,
            "bin_end": 0.33941694646342163,
            "count": 1
           },
           {
            "bin_start": 0.33941694646342163,
            "bin_end": 0.3827044329758357,
            "count": 2
           },
           {
            "bin_start": 0.3827044329758357,
            "bin_end": 0.42599191948824977,
            "count": 0
           },
           {
            "bin_start": 0.42599191948824977,
            "bin_end": 0.4692794060006638,
            "count": 0
           },
           {
            "bin_start": 0.4692794060006638,
            "bin_end": 0.5125668925130779,
            "count": 0
           },
           {
            "bin_start": 0.5125668925130779,
            "bin_end": 0.555854379025492,
            "count": 0
           },
           {
            "bin_start": 0.555854379025492,
            "bin_end": 0.5991418655379059,
            "count": 0
           },
           {
            "bin_start": 0.5991418655379059,
            "bin_end": 0.64242935205032,
            "count": 0
           },
           {
            "bin_start": 0.64242935205032,
            "bin_end": 0.6857168385627341,
            "count": 0
           },
           {
            "bin_start": 0.6857168385627341,
            "bin_end": 0.7290043250751481,
            "count": 2
           }
          ]
         }
        },
        {
         "name": "cont2",
         "dtype": "float64",
         "stats": {
          "unique_count": 5,
          "nan_count": 0,
          "min": "0.2817225458167626",
          "max": "0.6909987762012075",
          "histogram": [
           {
            "bin_start": 0.2817225458167626,
            "bin_end": 0.3226501688552071,
            "count": 2
           },
           {
            "bin_start": 0.3226501688552071,
            "bin_end": 0.3635777918936516,
            "count": 0
           },
           {
            "bin_start": 0.3635777918936516,
            "bin_end": 0.4045054149320961,
            "count": 0
           },
           {
            "bin_start": 0.4045054149320961,
            "bin_end": 0.44543303797054057,
            "count": 0
           },
           {
            "bin_start": 0.44543303797054057,
            "bin_end": 0.48636066100898506,
            "count": 1
           },
           {
            "bin_start": 0.48636066100898506,
            "bin_end": 0.5272882840474296,
            "count": 0
           },
           {
            "bin_start": 0.5272882840474296,
            "bin_end": 0.5682159070858741,
            "count": 0
           },
           {
            "bin_start": 0.5682159070858741,
            "bin_end": 0.6091435301243185,
            "count": 1
           },
           {
            "bin_start": 0.6091435301243185,
            "bin_end": 0.650071153162763,
            "count": 0
           },
           {
            "bin_start": 0.650071153162763,
            "bin_end": 0.6909987762012075,
            "count": 1
           }
          ]
         }
        },
        {
         "name": "cont3",
         "dtype": "float64",
         "stats": {
          "unique_count": 5,
          "nan_count": 0,
          "min": "0.3927532775183665",
          "max": "0.9296452824537292",
          "histogram": [
           {
            "bin_start": 0.3927532775183665,
            "bin_end": 0.44644247801190273,
            "count": 2
           },
           {
            "bin_start": 0.44644247801190273,
            "bin_end": 0.500131678505439,
            "count": 0
           },
           {
            "bin_start": 0.500131678505439,
            "bin_end": 0.5538208789989754,
            "count": 0
           },
           {
            "bin_start": 0.5538208789989754,
            "bin_end": 0.6075100794925116,
            "count": 0
           },
           {
            "bin_start": 0.6075100794925116,
            "bin_end": 0.6611992799860478,
            "count": 0
           },
           {
            "bin_start": 0.6611992799860478,
            "bin_end": 0.7148884804795841,
            "count": 0
           },
           {
            "bin_start": 0.7148884804795841,
            "bin_end": 0.7685776809731204,
            "count": 1
           },
           {
            "bin_start": 0.7685776809731204,
            "bin_end": 0.8222668814666567,
            "count": 0
           },
           {
            "bin_start": 0.8222668814666567,
            "bin_end": 0.8759560819601929,
            "count": 0
           },
           {
            "bin_start": 0.8759560819601929,
            "bin_end": 0.9296452824537292,
            "count": 2
           }
          ]
         }
        },
        {
         "name": "cont4",
         "dtype": "float64",
         "stats": {
          "unique_count": 5,
          "nan_count": 0,
          "min": "0.2855085705475974",
          "max": "0.7193062512379581",
          "histogram": [
           {
            "bin_start": 0.2855085705475974,
            "bin_end": 0.32888833861663347,
            "count": 2
           },
           {
            "bin_start": 0.32888833861663347,
            "bin_end": 0.3722681066856695,
            "count": 0
           },
           {
            "bin_start": 0.3722681066856695,
            "bin_end": 0.4156478747547056,
            "count": 0
           },
           {
            "bin_start": 0.4156478747547056,
            "bin_end": 0.45902764282374164,
            "count": 0
           },
           {
            "bin_start": 0.45902764282374164,
            "bin_end": 0.5024074108927777,
            "count": 1
           },
           {
            "bin_start": 0.5024074108927777,
            "bin_end": 0.5457871789618138,
            "count": 0
           },
           {
            "bin_start": 0.5457871789618138,
            "bin_end": 0.5891669470308498,
            "count": 0
           },
           {
            "bin_start": 0.5891669470308498,
            "bin_end": 0.632546715099886,
            "count": 0
           },
           {
            "bin_start": 0.632546715099886,
            "bin_end": 0.675926483168922,
            "count": 0
           },
           {
            "bin_start": 0.675926483168922,
            "bin_end": 0.7193062512379581,
            "count": 2
           }
          ]
         }
        },
        {
         "name": "cont5",
         "dtype": "float64",
         "stats": {
          "unique_count": 5,
          "nan_count": 0,
          "min": "0.376349647049601",
          "max": "0.8600457644522872",
          "histogram": [
           {
            "bin_start": 0.376349647049601,
            "bin_end": 0.4247192587898696,
            "count": 1
           },
           {
            "bin_start": 0.4247192587898696,
            "bin_end": 0.47308887053013826,
            "count": 1
           },
           {
            "bin_start": 0.47308887053013826,
            "bin_end": 0.5214584822704069,
            "count": 0
           },
           {
            "bin_start": 0.5214584822704069,
            "bin_end": 0.5698280940106755,
            "count": 0
           },
           {
            "bin_start": 0.5698280940106755,
            "bin_end": 0.618197705750944,
            "count": 0
           },
           {
            "bin_start": 0.618197705750944,
            "bin_end": 0.6665673174912128,
            "count": 0
           },
           {
            "bin_start": 0.6665673174912128,
            "bin_end": 0.7149369292314813,
            "count": 1
           },
           {
            "bin_start": 0.7149369292314813,
            "bin_end": 0.7633065409717499,
            "count": 0
           },
           {
            "bin_start": 0.7633065409717499,
            "bin_end": 0.8116761527120185,
            "count": 1
           },
           {
            "bin_start": 0.8116761527120185,
            "bin_end": 0.8600457644522872,
            "count": 1
           }
          ]
         }
        },
        {
         "name": "cont6",
         "dtype": "float64",
         "stats": {
          "unique_count": 5,
          "nan_count": 0,
          "min": "0.3378838967546349",
          "max": "0.7987116316548636",
          "histogram": [
           {
            "bin_start": 0.3378838967546349,
            "bin_end": 0.3839666702446578,
            "count": 1
           },
           {
            "bin_start": 0.3839666702446578,
            "bin_end": 0.4300494437346807,
            "count": 2
           },
           {
            "bin_start": 0.4300494437346807,
            "bin_end": 0.4761322172247035,
            "count": 0
           },
           {
            "bin_start": 0.4761322172247035,
            "bin_end": 0.5222149907147264,
            "count": 0
           },
           {
            "bin_start": 0.5222149907147264,
            "bin_end": 0.5682977642047493,
            "count": 0
           },
           {
            "bin_start": 0.5682977642047493,
            "bin_end": 0.6143805376947721,
            "count": 0
           },
           {
            "bin_start": 0.6143805376947721,
            "bin_end": 0.660463311184795,
            "count": 0
           },
           {
            "bin_start": 0.660463311184795,
            "bin_end": 0.7065460846748178,
            "count": 0
           },
           {
            "bin_start": 0.7065460846748178,
            "bin_end": 0.7526288581648407,
            "count": 1
           },
           {
            "bin_start": 0.7526288581648407,
            "bin_end": 0.7987116316548636,
            "count": 1
           }
          ]
         }
        },
        {
         "name": "cont7",
         "dtype": "float64",
         "stats": {
          "unique_count": 5,
          "nan_count": 0,
          "min": "0.3218317548420124",
          "max": "0.8793789222923013",
          "histogram": [
           {
            "bin_start": 0.3218317548420124,
            "bin_end": 0.3775864715870413,
            "count": 1
           },
           {
            "bin_start": 0.3775864715870413,
            "bin_end": 0.43334118833207014,
            "count": 1
           },
           {
            "bin_start": 0.43334118833207014,
            "bin_end": 0.48909590507709905,
            "count": 0
           },
           {
            "bin_start": 0.48909590507709905,
            "bin_end": 0.544850621822128,
            "count": 0
           },
           {
            "bin_start": 0.544850621822128,
            "bin_end": 0.6006053385671568,
            "count": 0
           },
           {
            "bin_start": 0.6006053385671568,
            "bin_end": 0.6563600553121858,
            "count": 1
           },
           {
            "bin_start": 0.6563600553121858,
            "bin_end": 0.7121147720572146,
            "count": 0
           },
           {
            "bin_start": 0.7121147720572146,
            "bin_end": 0.7678694888022435,
            "count": 0
           },
           {
            "bin_start": 0.7678694888022435,
            "bin_end": 0.8236242055472724,
            "count": 0
           },
           {
            "bin_start": 0.8236242055472724,
            "bin_end": 0.8793789222923013,
            "count": 2
           }
          ]
         }
        },
        {
         "name": "cont8",
         "dtype": "float64",
         "stats": {
          "unique_count": 5,
          "nan_count": 0,
          "min": "0.2755487603582021",
          "max": "1.0240166037294456",
          "histogram": [
           {
            "bin_start": 0.2755487603582021,
            "bin_end": 0.3503955446953264,
            "count": 1
           },
           {
            "bin_start": 0.3503955446953264,
            "bin_end": 0.4252423290324508,
            "count": 1
           },
           {
            "bin_start": 0.4252423290324508,
            "bin_end": 0.5000891133695752,
            "count": 2
           },
           {
            "bin_start": 0.5000891133695752,
            "bin_end": 0.5749358977066995,
            "count": 0
           },
           {
            "bin_start": 0.5749358977066995,
            "bin_end": 0.6497826820438238,
            "count": 0
           },
           {
            "bin_start": 0.6497826820438238,
            "bin_end": 0.7246294663809483,
            "count": 0
           },
           {
            "bin_start": 0.7246294663809483,
            "bin_end": 0.7994762507180726,
            "count": 0
           },
           {
            "bin_start": 0.7994762507180726,
            "bin_end": 0.8743230350551969,
            "count": 0
           },
           {
            "bin_start": 0.8743230350551969,
            "bin_end": 0.9491698193923213,
            "count": 0
           },
           {
            "bin_start": 0.9491698193923213,
            "bin_end": 1.0240166037294456,
            "count": 1
           }
          ]
         }
        },
        {
         "name": "cont9",
         "dtype": "float64",
         "stats": {
          "unique_count": 5,
          "nan_count": 0,
          "min": "0.2882755588329365",
          "max": "0.4278706435153981",
          "histogram": [
           {
            "bin_start": 0.2882755588329365,
            "bin_end": 0.30223506730118266,
            "count": 2
           },
           {
            "bin_start": 0.30223506730118266,
            "bin_end": 0.31619457576942883,
            "count": 0
           },
           {
            "bin_start": 0.31619457576942883,
            "bin_end": 0.330154084237675,
            "count": 0
           },
           {
            "bin_start": 0.330154084237675,
            "bin_end": 0.3441135927059211,
            "count": 0
           },
           {
            "bin_start": 0.3441135927059211,
            "bin_end": 0.3580731011741673,
            "count": 0
           },
           {
            "bin_start": 0.3580731011741673,
            "bin_end": 0.37203260964241347,
            "count": 0
           },
           {
            "bin_start": 0.37203260964241347,
            "bin_end": 0.38599211811065964,
            "count": 0
           },
           {
            "bin_start": 0.38599211811065964,
            "bin_end": 0.3999516265789058,
            "count": 2
           },
           {
            "bin_start": 0.3999516265789058,
            "bin_end": 0.41391113504715193,
            "count": 0
           },
           {
            "bin_start": 0.41391113504715193,
            "bin_end": 0.4278706435153981,
            "count": 1
           }
          ]
         }
        },
        {
         "name": "cont10",
         "dtype": "float64",
         "stats": {
          "unique_count": 5,
          "nan_count": 0,
          "min": "0.2444761826644774",
          "max": "0.9883396977071902",
          "histogram": [
           {
            "bin_start": 0.2444761826644774,
            "bin_end": 0.31886253416874866,
            "count": 1
           },
           {
            "bin_start": 0.31886253416874866,
            "bin_end": 0.39324888567301997,
            "count": 0
           },
           {
            "bin_start": 0.39324888567301997,
            "bin_end": 0.4676352371772913,
            "count": 0
           },
           {
            "bin_start": 0.4676352371772913,
            "bin_end": 0.5420215886815625,
            "count": 1
           },
           {
            "bin_start": 0.5420215886815625,
            "bin_end": 0.6164079401858338,
            "count": 1
           },
           {
            "bin_start": 0.6164079401858338,
            "bin_end": 0.6907942916901051,
            "count": 1
           },
           {
            "bin_start": 0.6907942916901051,
            "bin_end": 0.7651806431943764,
            "count": 0
           },
           {
            "bin_start": 0.7651806431943764,
            "bin_end": 0.8395669946986477,
            "count": 0
           },
           {
            "bin_start": 0.8395669946986477,
            "bin_end": 0.913953346202919,
            "count": 0
           },
           {
            "bin_start": 0.913953346202919,
            "bin_end": 0.9883396977071902,
            "count": 1
           }
          ]
         }
        },
        {
         "name": "cont11",
         "dtype": "float64",
         "stats": {
          "unique_count": 5,
          "nan_count": 0,
          "min": "0.0879137009320153",
          "max": "0.9050972328167228",
          "histogram": [
           {
            "bin_start": 0.0879137009320153,
            "bin_end": 0.16963205412048604,
            "count": 1
           },
           {
            "bin_start": 0.16963205412048604,
            "bin_end": 0.2513504073089568,
            "count": 0
           },
           {
            "bin_start": 0.2513504073089568,
            "bin_end": 0.3330687604974275,
            "count": 0
           },
           {
            "bin_start": 0.3330687604974275,
            "bin_end": 0.41478711368589827,
            "count": 3
           },
           {
            "bin_start": 0.41478711368589827,
            "bin_end": 0.49650546687436903,
            "count": 0
           },
           {
            "bin_start": 0.49650546687436903,
            "bin_end": 0.5782238200628398,
            "count": 0
           },
           {
            "bin_start": 0.5782238200628398,
            "bin_end": 0.6599421732513105,
            "count": 0
           },
           {
            "bin_start": 0.6599421732513105,
            "bin_end": 0.7416605264397813,
            "count": 0
           },
           {
            "bin_start": 0.7416605264397813,
            "bin_end": 0.8233788796282521,
            "count": 0
           },
           {
            "bin_start": 0.8233788796282521,
            "bin_end": 0.9050972328167228,
            "count": 1
           }
          ]
         }
        },
        {
         "name": "cont12",
         "dtype": "float64",
         "stats": {
          "unique_count": 5,
          "nan_count": 0,
          "min": "0.3018314255545636",
          "max": "0.8506839425302345",
          "histogram": [
           {
            "bin_start": 0.3018314255545636,
            "bin_end": 0.3567166772521307,
            "count": 1
           },
           {
            "bin_start": 0.3567166772521307,
            "bin_end": 0.41160192894969777,
            "count": 3
           },
           {
            "bin_start": 0.41160192894969777,
            "bin_end": 0.46648718064726485,
            "count": 0
           },
           {
            "bin_start": 0.46648718064726485,
            "bin_end": 0.5213724323448319,
            "count": 0
           },
           {
            "bin_start": 0.5213724323448319,
            "bin_end": 0.576257684042399,
            "count": 0
           },
           {
            "bin_start": 0.576257684042399,
            "bin_end": 0.631142935739966,
            "count": 0
           },
           {
            "bin_start": 0.631142935739966,
            "bin_end": 0.6860281874375331,
            "count": 0
           },
           {
            "bin_start": 0.6860281874375331,
            "bin_end": 0.7409134391351002,
            "count": 0
           },
           {
            "bin_start": 0.7409134391351002,
            "bin_end": 0.7957986908326673,
            "count": 0
           },
           {
            "bin_start": 0.7957986908326673,
            "bin_end": 0.8506839425302345,
            "count": 1
           }
          ]
         }
        },
        {
         "name": "cont13",
         "dtype": "float64",
         "stats": {
          "unique_count": 5,
          "nan_count": 0,
          "min": "0.4613723962046812",
          "max": "0.9004123376353454",
          "histogram": [
           {
            "bin_start": 0.4613723962046812,
            "bin_end": 0.5052763903477476,
            "count": 1
           },
           {
            "bin_start": 0.5052763903477476,
            "bin_end": 0.5491803844908141,
            "count": 1
           },
           {
            "bin_start": 0.5491803844908141,
            "bin_end": 0.5930843786338804,
            "count": 0
           },
           {
            "bin_start": 0.5930843786338804,
            "bin_end": 0.6369883727769469,
            "count": 0
           },
           {
            "bin_start": 0.6369883727769469,
            "bin_end": 0.6808923669200133,
            "count": 0
           },
           {
            "bin_start": 0.6808923669200133,
            "bin_end": 0.7247963610630798,
            "count": 1
           },
           {
            "bin_start": 0.7247963610630798,
            "bin_end": 0.7687003552061462,
            "count": 0
           },
           {
            "bin_start": 0.7687003552061462,
            "bin_end": 0.8126043493492126,
            "count": 0
           },
           {
            "bin_start": 0.8126043493492126,
            "bin_end": 0.8565083434922791,
            "count": 1
           },
           {
            "bin_start": 0.8565083434922791,
            "bin_end": 0.9004123376353454,
            "count": 1
           }
          ]
         }
        },
        {
         "name": "_deepnote_index_column",
         "dtype": "int64"
        }
       ],
       "rows": [
        {
         "id": 0,
         "cat0": "B",
         "cat1": "B",
         "cat2": "B",
         "cat3": "C",
         "cat4": "B",
         "cat5": "B",
         "cat6": "A",
         "cat7": "E",
         "cat8": "E",
         "cat9": "I",
         "cont0": 0.2962273176867542,
         "cont1": 0.6867571441018803,
         "cont2": 0.5877308530032626,
         "cont3": 0.3927532775183665,
         "cont4": 0.4767390451101133,
         "cont5": 0.376349647049601,
         "cont6": 0.3378838967546349,
         "cont7": 0.3218317548420124,
         "cont8": 0.4452123032588636,
         "cont9": 0.2902576164838725,
         "cont10": 0.2444761826644774,
         "cont11": 0.0879137009320153,
         "cont12": 0.3018314255545636,
         "cont13": 0.8457015400873743,
         "_deepnote_index_column": 0
        },
        {
         "id": 5,
         "cat0": "A",
         "cat1": "B",
         "cat2": "A",
         "cat3": "C",
         "cat4": "B",
         "cat5": "C",
         "cat6": "A",
         "cat7": "E",
         "cat8": "C",
         "cat9": "H",
         "cont0": 0.5437069628531277,
         "cont1": 0.3647605221922151,
         "cont2": 0.4529673420842937,
         "cont3": 0.9296452824537292,
         "cont4": 0.2855085705475974,
         "cont5": 0.8600457644522872,
         "cont6": 0.7987116316548636,
         "cont7": 0.8359614405089484,
         "cont8": 0.391657228749361,
         "cont9": 0.2882755588329365,
         "cont10": 0.5495675805096408,
         "cont11": 0.9050972328167228,
         "cont12": 0.8506839425302345,
         "cont13": 0.6939397082927241,
         "_deepnote_index_column": 1
        },
        {
         "id": 15,
         "cat0": "B",
         "cat1": "A",
         "cat2": "A",
         "cat3": "A",
         "cat4": "B",
         "cat5": "B",
         "cat6": "A",
         "cat7": "E",
         "cat8": "D",
         "cat9": "K",
         "cont0": 0.4089612538241218,
         "cont1": 0.2961294599510076,
         "cont2": 0.6909987762012075,
         "cont3": 0.7400266232284132,
         "cont4": 0.6972721235756495,
         "cont5": 0.6836004804261453,
         "cont6": 0.4040892822407578,
         "cont7": 0.8793789222923013,
         "cont8": 0.2755487603582021,
         "cont9": 0.4278706435153981,
         "cont10": 0.4916671871508178,
         "cont11": 0.3843147172176181,
         "cont12": 0.3766890011599688,
         "cont13": 0.508098515834277,
         "_deepnote_index_column": 2
        },
        {
         "id": 16,
         "cat0": "B",
         "cat1": "B",
         "cat2": "A",
         "cat3": "C",
         "cat4": "B",
         "cat5": "D",
         "cat6": "A",
         "cat7": "E",
         "cat8": "A",
         "cat9": "N",
         "cont0": 1.031238950834945,
         "cont1": 0.3560618582595338,
         "cont2": 0.3036511320876336,
         "cont3": 0.8955911811205504,
         "cont4": 0.7193062512379581,
         "cont5": 0.777889997080109,
         "cont6": 0.7309543416907122,
         "cont7": 0.6443151364341332,
         "cont8": 1.0240166037294456,
         "cont9": 0.3910902387029286,
         "cont10": 0.9883396977071902,
         "cont11": 0.4118280224511893,
         "cont12": 0.3935849833775794,
         "cont13": 0.4613723962046812,
         "_deepnote_index_column": 3
        },
        {
         "id": 17,
         "cat0": "B",
         "cat1": "B",
         "cat2": "A",
         "cat3": "C",
         "cat4": "B",
         "cat5": "C",
         "cat6": "A",
         "cat7": "E",
         "cat8": "C",
         "cat9": "F",
         "cont0": 0.5304469243721955,
         "cont1": 0.7290043250751481,
         "cont2": 0.2817225458167626,
         "cont3": 0.4446984490865049,
         "cont4": 0.313031692168346,
         "cont5": 0.4310074304964005,
         "cont6": 0.3909919513452505,
         "cont7": 0.4088740888539305,
         "cont8": 0.4478865723889693,
         "cont9": 0.3902530653373513,
         "cont10": 0.6489324891004222,
         "cont11": 0.3859349680642662,
         "cont12": 0.3704012001397118,
         "cont13": 0.9004123376353454,
         "_deepnote_index_column": 4
        }
       ]
      },
      "text/plain": "   id cat0 cat1 cat2 cat3 cat4 cat5 cat6 cat7 cat8  ...     cont4     cont5  \\\n0   0    B    B    B    C    B    B    A    E    E  ...  0.476739  0.376350   \n1   5    A    B    A    C    B    C    A    E    C  ...  0.285509  0.860046   \n2  15    B    A    A    A    B    B    A    E    D  ...  0.697272  0.683600   \n3  16    B    B    A    C    B    D    A    E    A  ...  0.719306  0.777890   \n4  17    B    B    A    C    B    C    A    E    C  ...  0.313032  0.431007   \n\n      cont6     cont7     cont8     cont9    cont10    cont11    cont12  \\\n0  0.337884  0.321832  0.445212  0.290258  0.244476  0.087914  0.301831   \n1  0.798712  0.835961  0.391657  0.288276  0.549568  0.905097  0.850684   \n2  0.404089  0.879379  0.275549  0.427871  0.491667  0.384315  0.376689   \n3  0.730954  0.644315  1.024017  0.391090  0.988340  0.411828  0.393585   \n4  0.390992  0.408874  0.447887  0.390253  0.648932  0.385935  0.370401   \n\n     cont13  \n0  0.845702  \n1  0.693940  \n2  0.508099  \n3  0.461372  \n4  0.900412  \n\n[5 rows x 25 columns]",
      "text/html": "<div>\n<style scoped>\n    .dataframe tbody tr th:only-of-type {\n        vertical-align: middle;\n    }\n\n    .dataframe tbody tr th {\n        vertical-align: top;\n    }\n\n    .dataframe thead th {\n        text-align: right;\n    }\n</style>\n<table border=\"1\" class=\"dataframe\">\n  <thead>\n    <tr style=\"text-align: right;\">\n      <th></th>\n      <th>id</th>\n      <th>cat0</th>\n      <th>cat1</th>\n      <th>cat2</th>\n      <th>cat3</th>\n      <th>cat4</th>\n      <th>cat5</th>\n      <th>cat6</th>\n      <th>cat7</th>\n      <th>cat8</th>\n      <th>...</th>\n      <th>cont4</th>\n      <th>cont5</th>\n      <th>cont6</th>\n      <th>cont7</th>\n      <th>cont8</th>\n      <th>cont9</th>\n      <th>cont10</th>\n      <th>cont11</th>\n      <th>cont12</th>\n      <th>cont13</th>\n    </tr>\n  </thead>\n  <tbody>\n    <tr>\n      <th>0</th>\n      <td>0</td>\n      <td>B</td>\n      <td>B</td>\n      <td>B</td>\n      <td>C</td>\n      <td>B</td>\n      <td>B</td>\n      <td>A</td>\n      <td>E</td>\n      <td>E</td>\n      <td>...</td>\n      <td>0.476739</td>\n      <td>0.376350</td>\n      <td>0.337884</td>\n      <td>0.321832</td>\n      <td>0.445212</td>\n      <td>0.290258</td>\n      <td>0.244476</td>\n      <td>0.087914</td>\n      <td>0.301831</td>\n      <td>0.845702</td>\n    </tr>\n    <tr>\n      <th>1</th>\n      <td>5</td>\n      <td>A</td>\n      <td>B</td>\n      <td>A</td>\n      <td>C</td>\n      <td>B</td>\n      <td>C</td>\n      <td>A</td>\n      <td>E</td>\n      <td>C</td>\n      <td>...</td>\n      <td>0.285509</td>\n      <td>0.860046</td>\n      <td>0.798712</td>\n      <td>0.835961</td>\n      <td>0.391657</td>\n      <td>0.288276</td>\n      <td>0.549568</td>\n      <td>0.905097</td>\n      <td>0.850684</td>\n      <td>0.693940</td>\n    </tr>\n    <tr>\n      <th>2</th>\n      <td>15</td>\n      <td>B</td>\n      <td>A</td>\n      <td>A</td>\n      <td>A</td>\n      <td>B</td>\n      <td>B</td>\n      <td>A</td>\n      <td>E</td>\n      <td>D</td>\n      <td>...</td>\n      <td>0.697272</td>\n      <td>0.683600</td>\n      <td>0.404089</td>\n      <td>0.879379</td>\n      <td>0.275549</td>\n      <td>0.427871</td>\n      <td>0.491667</td>\n      <td>0.384315</td>\n      <td>0.376689</td>\n      <td>0.508099</td>\n    </tr>\n    <tr>\n      <th>3</th>\n      <td>16</td>\n      <td>B</td>\n      <td>B</td>\n      <td>A</td>\n      <td>C</td>\n      <td>B</td>\n      <td>D</td>\n      <td>A</td>\n      <td>E</td>\n      <td>A</td>\n      <td>...</td>\n      <td>0.719306</td>\n      <td>0.777890</td>\n      <td>0.730954</td>\n      <td>0.644315</td>\n      <td>1.024017</td>\n      <td>0.391090</td>\n      <td>0.988340</td>\n      <td>0.411828</td>\n      <td>0.393585</td>\n      <td>0.461372</td>\n    </tr>\n    <tr>\n      <th>4</th>\n      <td>17</td>\n      <td>B</td>\n      <td>B</td>\n      <td>A</td>\n      <td>C</td>\n      <td>B</td>\n      <td>C</td>\n      <td>A</td>\n      <td>E</td>\n      <td>C</td>\n      <td>...</td>\n      <td>0.313032</td>\n      <td>0.431007</td>\n      <td>0.390992</td>\n      <td>0.408874</td>\n      <td>0.447887</td>\n      <td>0.390253</td>\n      <td>0.648932</td>\n      <td>0.385935</td>\n      <td>0.370401</td>\n      <td>0.900412</td>\n    </tr>\n  </tbody>\n</table>\n<p>5 rows × 25 columns</p>\n</div>"
     },
     "metadata": {}
    }
   ],
   "execution_count": 4
  },
  {
   "cell_type": "code",
   "source": "useful_features = [c for c in df.columns if c not in (\"id\", \"target\", \"kfold\", \"Unnamed: 0\")]\nobject_cols = [col for col in useful_features if 'cat' in col]\n\ndf_test = df_test[useful_features]",
   "metadata": {
    "cell_id": "6eb42e5017aa4fc98ddeb8a14c295145",
    "tags": [],
    "deepnote_to_be_reexecuted": false,
    "source_hash": "bbb70115",
    "execution_start": 1655311630975,
    "execution_millis": 1,
    "deepnote_cell_type": "code",
    "deepnote_cell_height": 135,
    "deepnote_output_heights": [
     97.9375
    ]
   },
   "outputs": [],
   "execution_count": 5
  },
  {
   "cell_type": "code",
   "source": "for fold in range(5):\n    xtrain =  df[df.kfold != fold].reset_index(drop=True)\n    xvalid = df[df.kfold == fold].reset_index(drop=True)\n    xtest = df_test.copy()\n\n    ytrain = xtrain.target\n    yvalid = xvalid.target\n    \n    xtrain = xtrain[useful_features]\n    xvalid = xvalid[useful_features]\n\n    ordinal_encoder = OrdinalEncoder()\n    xtrain[object_cols] = ordinal_encoder.fit_transform(xtrain[object_cols])\n    xvalid[object_cols] = ordinal_encoder.transform(xvalid[object_cols])\n    xtest[object_cols] = ordinal_encoder.transform(xtest[object_cols])\n    \n    \n",
   "metadata": {
    "cell_id": "b88db065759143cfbbc81ac0d400beee",
    "tags": [],
    "deepnote_to_be_reexecuted": false,
    "source_hash": "558c978e",
    "execution_start": 1655311736557,
    "execution_millis": 12719,
    "deepnote_cell_type": "code",
    "deepnote_cell_height": 387
   },
   "outputs": [],
   "execution_count": 7
  },
  {
   "cell_type": "code",
   "source": "",
   "metadata": {
    "cell_id": "7020ee123ef340e4934644741e04db72",
    "tags": [],
    "owner_user_id": "e585054d-6bb8-42b6-830c-74e53ff767e9",
    "deepnote_cell_type": "code"
   },
   "outputs": [],
   "execution_count": null
  },
  {
   "cell_type": "markdown",
   "source": "<a style='text-decoration:none;line-height:16px;display:flex;color:#5B5B62;padding:10px;justify-content:end;' href='https://deepnote.com?utm_source=created-in-deepnote-cell&projectId=b4e40210-318e-4fc2-b449-7d1429e24cee' target=\"_blank\">\n<img alt='Created in deepnote.com' style='display:inline;max-height:16px;margin:0px;margin-right:7.5px;' src='data:image/svg+xml;base64,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' > </img>\nCreated in <span style='font-weight:600;margin-left:4px;'>Deepnote</span></a>",
   "metadata": {
    "tags": [],
    "created_in_deepnote_cell": true,
    "deepnote_cell_type": "markdown"
   }
  }
 ],
 "nbformat": 4,
 "nbformat_minor": 2,
 "metadata": {
  "orig_nbformat": 2,
  "deepnote": {},
  "deepnote_notebook_id": "005bd8a2-4ec6-4fdb-805f-5d72c1b6f91d",
  "deepnote_execution_queue": []
 }
}