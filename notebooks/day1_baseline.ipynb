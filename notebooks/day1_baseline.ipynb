{
 "cells": [
  {
   "cell_type": "markdown",
   "source": "# Day 1 \n \nWe will start by implementing baseline models, no advanced techniques yet in order to do our first submission in kaggle",
   "metadata": {
    "cell_id": "5f1f99fa0e93488cbe2d7ef4a1732a54",
    "tags": [],
    "deepnote_cell_type": "markdown",
    "deepnote_cell_height": 142.78125
   }
  },
  {
   "cell_type": "code",
   "metadata": {
    "tags": [],
    "cell_id": "ac4b5b3b-9054-458c-8223-cff7eabc93a0",
    "deepnote_to_be_reexecuted": false,
    "source_hash": "64b573ae",
    "execution_start": 1655306525040,
    "execution_millis": 1120,
    "deepnote_cell_type": "code",
    "deepnote_cell_height": 117
   },
   "source": "import numpy as np\nimport pandas as pd\nfrom sklearn.model_selection import train_test_split",
   "execution_count": 1,
   "outputs": []
  },
  {
   "cell_type": "code",
   "metadata": {
    "cell_id": "4f70f73f8b8549a98295ddd0f57bdc19",
    "tags": [],
    "deepnote_to_be_reexecuted": false,
    "source_hash": "39011ecb",
    "execution_start": 1655306526160,
    "execution_millis": 1176,
    "deepnote_cell_type": "code",
    "deepnote_cell_height": 81
   },
   "source": "df_train = pd.read_csv(\"../data/input/train.csv\")",
   "execution_count": 2,
   "outputs": []
  },
  {
   "cell_type": "code",
   "source": "df_train.shape",
   "metadata": {
    "cell_id": "fc391e04f2984f8eaa8f32269180aa48",
    "tags": [],
    "deepnote_to_be_reexecuted": false,
    "source_hash": "db981d08",
    "execution_start": 1655306527345,
    "execution_millis": 6,
    "deepnote_cell_type": "code",
    "deepnote_cell_height": 118.1875,
    "deepnote_output_heights": [
     21.1875
    ]
   },
   "outputs": [
    {
     "output_type": "execute_result",
     "execution_count": 3,
     "data": {
      "text/plain": "(300000, 26)"
     },
     "metadata": {}
    }
   ],
   "execution_count": 3
  },
  {
   "cell_type": "code",
   "source": "df_train.head()",
   "metadata": {
    "cell_id": "46d00012ba7647dcb670e863500dc41e",
    "tags": [],
    "deepnote_to_be_reexecuted": false,
    "source_hash": "5e2a9c26",
    "execution_start": 1655306527403,
    "execution_millis": 34,
    "deepnote_cell_type": "code",
    "deepnote_cell_height": 410
   },
   "outputs": [
    {
     "output_type": "execute_result",
     "execution_count": 4,
     "data": {
      "application/vnd.deepnote.dataframe.v3+json": {
       "column_count": 26,
       "row_count": 5,
       "columns": [
        {
         "name": "id",
         "dtype": "int64",
         "stats": {
          "unique_count": 5,
          "nan_count": 0,
          "min": "1",
          "max": "6",
          "histogram": [
           {
            "bin_start": 1,
            "bin_end": 1.5,
            "count": 1
           },
           {
            "bin_start": 1.5,
            "bin_end": 2,
            "count": 0
           },
           {
            "bin_start": 2,
            "bin_end": 2.5,
            "count": 1
           },
           {
            "bin_start": 2.5,
            "bin_end": 3,
            "count": 0
           },
           {
            "bin_start": 3,
            "bin_end": 3.5,
            "count": 1
           },
           {
            "bin_start": 3.5,
            "bin_end": 4,
            "count": 0
           },
           {
            "bin_start": 4,
            "bin_end": 4.5,
            "count": 1
           },
           {
            "bin_start": 4.5,
            "bin_end": 5,
            "count": 0
           },
           {
            "bin_start": 5,
            "bin_end": 5.5,
            "count": 0
           },
           {
            "bin_start": 5.5,
            "bin_end": 6,
            "count": 1
           }
          ]
         }
        },
        {
         "name": "cat0",
         "dtype": "object",
         "stats": {
          "unique_count": 2,
          "nan_count": 0,
          "categories": [
           {
            "name": "B",
            "count": 3
           },
           {
            "name": "A",
            "count": 2
           }
          ]
         }
        },
        {
         "name": "cat1",
         "dtype": "object",
         "stats": {
          "unique_count": 2,
          "nan_count": 0,
          "categories": [
           {
            "name": "B",
            "count": 3
           },
           {
            "name": "A",
            "count": 2
           }
          ]
         }
        },
        {
         "name": "cat2",
         "dtype": "object",
         "stats": {
          "unique_count": 2,
          "nan_count": 0,
          "categories": [
           {
            "name": "A",
            "count": 4
           },
           {
            "name": "B",
            "count": 1
           }
          ]
         }
        },
        {
         "name": "cat3",
         "dtype": "object",
         "stats": {
          "unique_count": 2,
          "nan_count": 0,
          "categories": [
           {
            "name": "C",
            "count": 4
           },
           {
            "name": "A",
            "count": 1
           }
          ]
         }
        },
        {
         "name": "cat4",
         "dtype": "object",
         "stats": {
          "unique_count": 1,
          "nan_count": 0,
          "categories": [
           {
            "name": "B",
            "count": 5
           }
          ]
         }
        },
        {
         "name": "cat5",
         "dtype": "object",
         "stats": {
          "unique_count": 2,
          "nan_count": 0,
          "categories": [
           {
            "name": "D",
            "count": 4
           },
           {
            "name": "B",
            "count": 1
           }
          ]
         }
        },
        {
         "name": "cat6",
         "dtype": "object",
         "stats": {
          "unique_count": 1,
          "nan_count": 0,
          "categories": [
           {
            "name": "A",
            "count": 5
           }
          ]
         }
        },
        {
         "name": "cat7",
         "dtype": "object",
         "stats": {
          "unique_count": 3,
          "nan_count": 0,
          "categories": [
           {
            "name": "E",
            "count": 3
           },
           {
            "name": "F",
            "count": 1
           },
           {
            "name": "D",
            "count": 1
           }
          ]
         }
        },
        {
         "name": "cat8",
         "dtype": "object",
         "stats": {
          "unique_count": 2,
          "nan_count": 0,
          "categories": [
           {
            "name": "A",
            "count": 3
           },
           {
            "name": "C",
            "count": 2
           }
          ]
         }
        },
        {
         "name": "cat9",
         "dtype": "object",
         "stats": {
          "unique_count": 4,
          "nan_count": 0,
          "categories": [
           {
            "name": "N",
            "count": 2
           },
           {
            "name": "O",
            "count": 1
           },
           {
            "name": "2 others",
            "count": 2
           }
          ]
         }
        },
        {
         "name": "cont0",
         "dtype": "float64",
         "stats": {
          "unique_count": 5,
          "nan_count": 0,
          "min": "0.2014695545872097",
          "max": "1.0582910572135842",
          "histogram": [
           {
            "bin_start": 0.2014695545872097,
            "bin_end": 0.28715170484984714,
            "count": 1
           },
           {
            "bin_start": 0.28715170484984714,
            "bin_end": 0.37283385511248457,
            "count": 0
           },
           {
            "bin_start": 0.37283385511248457,
            "bin_end": 0.45851600537512205,
            "count": 1
           },
           {
            "bin_start": 0.45851600537512205,
            "bin_end": 0.5441981556377595,
            "count": 0
           },
           {
            "bin_start": 0.5441981556377595,
            "bin_end": 0.629880305900397,
            "count": 0
           },
           {
            "bin_start": 0.629880305900397,
            "bin_end": 0.7155624561630344,
            "count": 0
           },
           {
            "bin_start": 0.7155624561630344,
            "bin_end": 0.8012446064256719,
            "count": 2
           },
           {
            "bin_start": 0.8012446064256719,
            "bin_end": 0.8869267566883093,
            "count": 0
           },
           {
            "bin_start": 0.8869267566883093,
            "bin_end": 0.9726089069509468,
            "count": 0
           },
           {
            "bin_start": 0.9726089069509468,
            "bin_end": 1.0582910572135842,
            "count": 1
           }
          ]
         }
        },
        {
         "name": "cont1",
         "dtype": "float64",
         "stats": {
          "unique_count": 5,
          "nan_count": 0,
          "min": "-0.0148218457189676",
          "max": "0.6209977492953859",
          "histogram": [
           {
            "bin_start": -0.0148218457189676,
            "bin_end": 0.048760113782467744,
            "count": 1
           },
           {
            "bin_start": 0.048760113782467744,
            "bin_end": 0.1123420732839031,
            "count": 0
           },
           {
            "bin_start": 0.1123420732839031,
            "bin_end": 0.1759240327853384,
            "count": 0
           },
           {
            "bin_start": 0.1759240327853384,
            "bin_end": 0.23950599228677377,
            "count": 0
           },
           {
            "bin_start": 0.23950599228677377,
            "bin_end": 0.30308795178820913,
            "count": 0
           },
           {
            "bin_start": 0.30308795178820913,
            "bin_end": 0.36666991128964443,
            "count": 1
           },
           {
            "bin_start": 0.36666991128964443,
            "bin_end": 0.4302518707910798,
            "count": 2
           },
           {
            "bin_start": 0.4302518707910798,
            "bin_end": 0.49383383029251515,
            "count": 0
           },
           {
            "bin_start": 0.49383383029251515,
            "bin_end": 0.5574157897939505,
            "count": 0
           },
           {
            "bin_start": 0.5574157897939505,
            "bin_end": 0.6209977492953859,
            "count": 1
           }
          ]
         }
        },
        {
         "name": "cont2",
         "dtype": "float64",
         "stats": {
          "unique_count": 5,
          "nan_count": 0,
          "min": "-0.0523886198242577",
          "max": "1.0216053769583606",
          "histogram": [
           {
            "bin_start": -0.0523886198242577,
            "bin_end": 0.05501077985400414,
            "count": 2
           },
           {
            "bin_start": 0.05501077985400414,
            "bin_end": 0.162410179532266,
            "count": 0
           },
           {
            "bin_start": 0.162410179532266,
            "bin_end": 0.26980957921052784,
            "count": 0
           },
           {
            "bin_start": 0.26980957921052784,
            "bin_end": 0.3772089788887897,
            "count": 0
           },
           {
            "bin_start": 0.3772089788887897,
            "bin_end": 0.4846083785670515,
            "count": 0
           },
           {
            "bin_start": 0.4846083785670515,
            "bin_end": 0.5920077782453134,
            "count": 1
           },
           {
            "bin_start": 0.5920077782453134,
            "bin_end": 0.6994071779235752,
            "count": 1
           },
           {
            "bin_start": 0.6994071779235752,
            "bin_end": 0.806806577601837,
            "count": 0
           },
           {
            "bin_start": 0.806806577601837,
            "bin_end": 0.9142059772800989,
            "count": 0
           },
           {
            "bin_start": 0.9142059772800989,
            "bin_end": 1.0216053769583606,
            "count": 1
           }
          ]
         }
        },
        {
         "name": "cont3",
         "dtype": "float64",
         "stats": {
          "unique_count": 5,
          "nan_count": 0,
          "min": "0.1362783628231121",
          "max": "0.5769572988863132",
          "histogram": [
           {
            "bin_start": 0.1362783628231121,
            "bin_end": 0.1803462564294322,
            "count": 1
           },
           {
            "bin_start": 0.1803462564294322,
            "bin_end": 0.22441415003575232,
            "count": 0
           },
           {
            "bin_start": 0.22441415003575232,
            "bin_end": 0.2684820436420724,
            "count": 1
           },
           {
            "bin_start": 0.2684820436420724,
            "bin_end": 0.31254993724839253,
            "count": 1
           },
           {
            "bin_start": 0.31254993724839253,
            "bin_end": 0.35661783085471266,
            "count": 0
           },
           {
            "bin_start": 0.35661783085471266,
            "bin_end": 0.4006857244610328,
            "count": 1
           },
           {
            "bin_start": 0.4006857244610328,
            "bin_end": 0.4447536180673528,
            "count": 0
           },
           {
            "bin_start": 0.4447536180673528,
            "bin_end": 0.48882151167367294,
            "count": 0
           },
           {
            "bin_start": 0.48882151167367294,
            "bin_end": 0.5328894052799931,
            "count": 0
           },
           {
            "bin_start": 0.5328894052799931,
            "bin_end": 0.5769572988863132,
            "count": 1
           }
          ]
         }
        },
        {
         "name": "cont4",
         "dtype": "float64",
         "stats": {
          "unique_count": 5,
          "nan_count": 0,
          "min": "0.2768526208247358",
          "max": "0.6107059688489804",
          "histogram": [
           {
            "bin_start": 0.2768526208247358,
            "bin_end": 0.3102379556271602,
            "count": 4
           },
           {
            "bin_start": 0.3102379556271602,
            "bin_end": 0.3436232904295847,
            "count": 0
           },
           {
            "bin_start": 0.3436232904295847,
            "bin_end": 0.3770086252320092,
            "count": 0
           },
           {
            "bin_start": 0.3770086252320092,
            "bin_end": 0.4103939600344336,
            "count": 0
           },
           {
            "bin_start": 0.4103939600344336,
            "bin_end": 0.4437792948368581,
            "count": 0
           },
           {
            "bin_start": 0.4437792948368581,
            "bin_end": 0.4771646296392825,
            "count": 0
           },
           {
            "bin_start": 0.4771646296392825,
            "bin_end": 0.5105499644417071,
            "count": 0
           },
           {
            "bin_start": 0.5105499644417071,
            "bin_end": 0.5439352992441315,
            "count": 0
           },
           {
            "bin_start": 0.5439352992441315,
            "bin_end": 0.577320634046556,
            "count": 0
           },
           {
            "bin_start": 0.577320634046556,
            "bin_end": 0.6107059688489804,
            "count": 1
           }
          ]
         }
        },
        {
         "name": "cont5",
         "dtype": "float64",
         "stats": {
          "unique_count": 5,
          "nan_count": 0,
          "min": "0.400361335034366",
          "max": "0.6869641686895456",
          "histogram": [
           {
            "bin_start": 0.400361335034366,
            "bin_end": 0.42902161839988395,
            "count": 1
           },
           {
            "bin_start": 0.42902161839988395,
            "bin_end": 0.4576819017654019,
            "count": 0
           },
           {
            "bin_start": 0.4576819017654019,
            "bin_end": 0.48634218513091987,
            "count": 0
           },
           {
            "bin_start": 0.48634218513091987,
            "bin_end": 0.5150024684964378,
            "count": 0
           },
           {
            "bin_start": 0.5150024684964378,
            "bin_end": 0.5436627518619558,
            "count": 1
           },
           {
            "bin_start": 0.5436627518619558,
            "bin_end": 0.5723230352274737,
            "count": 0
           },
           {
            "bin_start": 0.5723230352274737,
            "bin_end": 0.6009833185929917,
            "count": 0
           },
           {
            "bin_start": 0.6009833185929917,
            "bin_end": 0.6296436019585097,
            "count": 0
           },
           {
            "bin_start": 0.6296436019585097,
            "bin_end": 0.6583038853240276,
            "count": 1
           },
           {
            "bin_start": 0.6583038853240276,
            "bin_end": 0.6869641686895456,
            "count": 2
           }
          ]
         }
        },
        {
         "name": "cont6",
         "dtype": "float64",
         "stats": {
          "unique_count": 5,
          "nan_count": 0,
          "min": "0.1602656606063883",
          "max": "0.5589217543444378",
          "histogram": [
           {
            "bin_start": 0.1602656606063883,
            "bin_end": 0.20013126998019326,
            "count": 1
           },
           {
            "bin_start": 0.20013126998019326,
            "bin_end": 0.23999687935399822,
            "count": 1
           },
           {
            "bin_start": 0.23999687935399822,
            "bin_end": 0.27986248872780317,
            "count": 0
           },
           {
            "bin_start": 0.27986248872780317,
            "bin_end": 0.31972809810160807,
            "count": 0
           },
           {
            "bin_start": 0.31972809810160807,
            "bin_end": 0.3595937074754131,
            "count": 0
           },
           {
            "bin_start": 0.3595937074754131,
            "bin_end": 0.399459316849218,
            "count": 1
           },
           {
            "bin_start": 0.399459316849218,
            "bin_end": 0.43932492622302294,
            "count": 1
           },
           {
            "bin_start": 0.43932492622302294,
            "bin_end": 0.4791905355968279,
            "count": 0
           },
           {
            "bin_start": 0.4791905355968279,
            "bin_end": 0.5190561449706328,
            "count": 0
           },
           {
            "bin_start": 0.5190561449706328,
            "bin_end": 0.5589217543444378,
            "count": 1
           }
          ]
         }
        },
        {
         "name": "cont7",
         "dtype": "float64",
         "stats": {
          "unique_count": 5,
          "nan_count": 0,
          "min": "0.3109214715212386",
          "max": "0.9025673702374444",
          "histogram": [
           {
            "bin_start": 0.3109214715212386,
            "bin_end": 0.3700860613928592,
            "count": 1
           },
           {
            "bin_start": 0.3700860613928592,
            "bin_end": 0.42925065126447975,
            "count": 0
           },
           {
            "bin_start": 0.42925065126447975,
            "bin_end": 0.48841524113610035,
            "count": 0
           },
           {
            "bin_start": 0.48841524113610035,
            "bin_end": 0.5475798310077209,
            "count": 1
           },
           {
            "bin_start": 0.5475798310077209,
            "bin_end": 0.6067444208793416,
            "count": 0
           },
           {
            "bin_start": 0.6067444208793416,
            "bin_end": 0.6659090107509621,
            "count": 1
           },
           {
            "bin_start": 0.6659090107509621,
            "bin_end": 0.7250736006225826,
            "count": 0
           },
           {
            "bin_start": 0.7250736006225826,
            "bin_end": 0.7842381904942033,
            "count": 1
           },
           {
            "bin_start": 0.7842381904942033,
            "bin_end": 0.8434027803658238,
            "count": 0
           },
           {
            "bin_start": 0.8434027803658238,
            "bin_end": 0.9025673702374444,
            "count": 1
           }
          ]
         }
        },
        {
         "name": "cont8",
         "dtype": "float64",
         "stats": {
          "unique_count": 5,
          "nan_count": 0,
          "min": "0.3894697028785718",
          "max": "0.6845011685240272",
          "histogram": [
           {
            "bin_start": 0.3894697028785718,
            "bin_end": 0.41897284944311736,
            "count": 1
           },
           {
            "bin_start": 0.41897284944311736,
            "bin_end": 0.44847599600766286,
            "count": 0
           },
           {
            "bin_start": 0.44847599600766286,
            "bin_end": 0.4779791425722084,
            "count": 0
           },
           {
            "bin_start": 0.4779791425722084,
            "bin_end": 0.507482289136754,
            "count": 0
           },
           {
            "bin_start": 0.507482289136754,
            "bin_end": 0.5369854357012995,
            "count": 0
           },
           {
            "bin_start": 0.5369854357012995,
            "bin_end": 0.566488582265845,
            "count": 1
           },
           {
            "bin_start": 0.566488582265845,
            "bin_end": 0.5959917288303906,
            "count": 1
           },
           {
            "bin_start": 0.5959917288303906,
            "bin_end": 0.6254948753949361,
            "count": 0
           },
           {
            "bin_start": 0.6254948753949361,
            "bin_end": 0.6549980219594816,
            "count": 0
           },
           {
            "bin_start": 0.6549980219594816,
            "bin_end": 0.6845011685240272,
            "count": 2
           }
          ]
         }
        },
        {
         "name": "cont9",
         "dtype": "float64",
         "stats": {
          "unique_count": 5,
          "nan_count": 0,
          "min": "0.2675586974936821",
          "max": "0.9566923871521644",
          "histogram": [
           {
            "bin_start": 0.2675586974936821,
            "bin_end": 0.3364720664595303,
            "count": 1
           },
           {
            "bin_start": 0.3364720664595303,
            "bin_end": 0.4053854354253786,
            "count": 1
           },
           {
            "bin_start": 0.4053854354253786,
            "bin_end": 0.47429880439122685,
            "count": 0
           },
           {
            "bin_start": 0.47429880439122685,
            "bin_end": 0.5432121733570751,
            "count": 0
           },
           {
            "bin_start": 0.5432121733570751,
            "bin_end": 0.6121255423229233,
            "count": 1
           },
           {
            "bin_start": 0.6121255423229233,
            "bin_end": 0.6810389112887716,
            "count": 0
           },
           {
            "bin_start": 0.6810389112887716,
            "bin_end": 0.7499522802546198,
            "count": 0
           },
           {
            "bin_start": 0.7499522802546198,
            "bin_end": 0.818865649220468,
            "count": 0
           },
           {
            "bin_start": 0.818865649220468,
            "bin_end": 0.8877790181863162,
            "count": 1
           },
           {
            "bin_start": 0.8877790181863162,
            "bin_end": 0.9566923871521644,
            "count": 1
           }
          ]
         }
        },
        {
         "name": "cont10",
         "dtype": "float64",
         "stats": {
          "unique_count": 5,
          "nan_count": 0,
          "min": "0.2372806397083238",
          "max": "1.0007730781904414",
          "histogram": [
           {
            "bin_start": 0.2372806397083238,
            "bin_end": 0.31362988355653554,
            "count": 1
           },
           {
            "bin_start": 0.31362988355653554,
            "bin_end": 0.3899791274047473,
            "count": 1
           },
           {
            "bin_start": 0.3899791274047473,
            "bin_end": 0.4663283712529591,
            "count": 0
           },
           {
            "bin_start": 0.4663283712529591,
            "bin_end": 0.5426776151011709,
            "count": 0
           },
           {
            "bin_start": 0.5426776151011709,
            "bin_end": 0.6190268589493826,
            "count": 0
           },
           {
            "bin_start": 0.6190268589493826,
            "bin_end": 0.6953761027975944,
            "count": 0
           },
           {
            "bin_start": 0.6953761027975944,
            "bin_end": 0.7717253466458062,
            "count": 1
           },
           {
            "bin_start": 0.7717253466458062,
            "bin_end": 0.8480745904940179,
            "count": 0
           },
           {
            "bin_start": 0.8480745904940179,
            "bin_end": 0.9244238343422296,
            "count": 1
           },
           {
            "bin_start": 0.9244238343422296,
            "bin_end": 1.0007730781904414,
            "count": 1
           }
          ]
         }
        },
        {
         "name": "cont11",
         "dtype": "float64",
         "stats": {
          "unique_count": 5,
          "nan_count": 0,
          "min": "0.3778726966529537",
          "max": "0.9217009201766488",
          "histogram": [
           {
            "bin_start": 0.3778726966529537,
            "bin_end": 0.4322555190053232,
            "count": 1
           },
           {
            "bin_start": 0.4322555190053232,
            "bin_end": 0.4866383413576927,
            "count": 0
           },
           {
            "bin_start": 0.4866383413576927,
            "bin_end": 0.5410211637100621,
            "count": 0
           },
           {
            "bin_start": 0.5410211637100621,
            "bin_end": 0.5954039860624317,
            "count": 0
           },
           {
            "bin_start": 0.5954039860624317,
            "bin_end": 0.6497868084148013,
            "count": 1
           },
           {
            "bin_start": 0.6497868084148013,
            "bin_end": 0.7041696307671708,
            "count": 0
           },
           {
            "bin_start": 0.7041696307671708,
            "bin_end": 0.7585524531195402,
            "count": 1
           },
           {
            "bin_start": 0.7585524531195402,
            "bin_end": 0.8129352754719097,
            "count": 1
           },
           {
            "bin_start": 0.8129352754719097,
            "bin_end": 0.8673180978242793,
            "count": 0
           },
           {
            "bin_start": 0.8673180978242793,
            "bin_end": 0.9217009201766488,
            "count": 1
           }
          ]
         }
        },
        {
         "name": "cont12",
         "dtype": "float64",
         "stats": {
          "unique_count": 5,
          "nan_count": 0,
          "min": "0.2619752872959446",
          "max": "0.6258486649081045",
          "histogram": [
           {
            "bin_start": 0.2619752872959446,
            "bin_end": 0.2983626250571606,
            "count": 1
           },
           {
            "bin_start": 0.2983626250571606,
            "bin_end": 0.3347499628183766,
            "count": 1
           },
           {
            "bin_start": 0.3347499628183766,
            "bin_end": 0.3711373005795926,
            "count": 0
           },
           {
            "bin_start": 0.3711373005795926,
            "bin_end": 0.40752463834080854,
            "count": 0
           },
           {
            "bin_start": 0.40752463834080854,
            "bin_end": 0.4439119761020246,
            "count": 0
           },
           {
            "bin_start": 0.4439119761020246,
            "bin_end": 0.48029931386324054,
            "count": 0
           },
           {
            "bin_start": 0.48029931386324054,
            "bin_end": 0.5166866516244566,
            "count": 0
           },
           {
            "bin_start": 0.5166866516244566,
            "bin_end": 0.5530739893856725,
            "count": 2
           },
           {
            "bin_start": 0.5530739893856725,
            "bin_end": 0.5894613271468885,
            "count": 0
           },
           {
            "bin_start": 0.5894613271468885,
            "bin_end": 0.6258486649081045,
            "count": 1
           }
          ]
         }
        },
        {
         "name": "cont13",
         "dtype": "float64",
         "stats": {
          "unique_count": 5,
          "nan_count": 0,
          "min": "0.2508233899851028",
          "max": "0.8698501087465733",
          "histogram": [
           {
            "bin_start": 0.2508233899851028,
            "bin_end": 0.31272606186124985,
            "count": 2
           },
           {
            "bin_start": 0.31272606186124985,
            "bin_end": 0.3746287337373969,
            "count": 0
           },
           {
            "bin_start": 0.3746287337373969,
            "bin_end": 0.4365314056135439,
            "count": 0
           },
           {
            "bin_start": 0.4365314056135439,
            "bin_end": 0.498434077489691,
            "count": 1
           },
           {
            "bin_start": 0.498434077489691,
            "bin_end": 0.560336749365838,
            "count": 0
           },
           {
            "bin_start": 0.560336749365838,
            "bin_end": 0.6222394212419851,
            "count": 0
           },
           {
            "bin_start": 0.6222394212419851,
            "bin_end": 0.6841420931181321,
            "count": 0
           },
           {
            "bin_start": 0.6841420931181321,
            "bin_end": 0.7460447649942792,
            "count": 0
           },
           {
            "bin_start": 0.7460447649942792,
            "bin_end": 0.8079474368704262,
            "count": 1
           },
           {
            "bin_start": 0.8079474368704262,
            "bin_end": 0.8698501087465733,
            "count": 1
           }
          ]
         }
        },
        {
         "name": "target",
         "dtype": "float64",
         "stats": {
          "unique_count": 5,
          "nan_count": 0,
          "min": "7.972259905916037",
          "max": "8.481232790694882",
          "histogram": [
           {
            "bin_start": 7.972259905916037,
            "bin_end": 8.02315719439392,
            "count": 1
           },
           {
            "bin_start": 8.02315719439392,
            "bin_end": 8.074054482871805,
            "count": 1
           },
           {
            "bin_start": 8.074054482871805,
            "bin_end": 8.124951771349691,
            "count": 1
           },
           {
            "bin_start": 8.124951771349691,
            "bin_end": 8.175849059827575,
            "count": 0
           },
           {
            "bin_start": 8.175849059827575,
            "bin_end": 8.22674634830546,
            "count": 0
           },
           {
            "bin_start": 8.22674634830546,
            "bin_end": 8.277643636783344,
            "count": 0
           },
           {
            "bin_start": 8.277643636783344,
            "bin_end": 8.328540925261228,
            "count": 0
           },
           {
            "bin_start": 8.328540925261228,
            "bin_end": 8.379438213739114,
            "count": 1
           },
           {
            "bin_start": 8.379438213739114,
            "bin_end": 8.430335502216998,
            "count": 0
           },
           {
            "bin_start": 8.430335502216998,
            "bin_end": 8.481232790694882,
            "count": 1
           }
          ]
         }
        },
        {
         "name": "_deepnote_index_column",
         "dtype": "int64"
        }
       ],
       "rows": [
        {
         "id": 1,
         "cat0": "B",
         "cat1": "B",
         "cat2": "B",
         "cat3": "C",
         "cat4": "B",
         "cat5": "B",
         "cat6": "A",
         "cat7": "E",
         "cat8": "C",
         "cat9": "N",
         "cont0": 0.2014695545872097,
         "cont1": -0.0148218457189676,
         "cont2": 0.6696987928273178,
         "cont3": 0.1362783628231121,
         "cont4": 0.6107059688489804,
         "cont5": 0.400361335034366,
         "cont6": 0.1602656606063883,
         "cont7": 0.3109214715212386,
         "cont8": 0.3894697028785718,
         "cont9": 0.2675586974936821,
         "cont10": 0.2372806397083238,
         "cont11": 0.3778726966529537,
         "cont12": 0.3224009678184022,
         "cont13": 0.8698501087465733,
         "target": 8.113633879659153,
         "_deepnote_index_column": 0
        },
        {
         "id": 2,
         "cat0": "B",
         "cat1": "B",
         "cat2": "A",
         "cat3": "A",
         "cat4": "B",
         "cat5": "D",
         "cat6": "A",
         "cat7": "F",
         "cat8": "A",
         "cat9": "O",
         "cont0": 0.7430680067195221,
         "cont1": 0.3674106567778412,
         "cont2": 1.0216053769583606,
         "cont3": 0.3657984687310849,
         "cont4": 0.2768526208247358,
         "cont5": 0.5330865059618201,
         "cont6": 0.5589217543444378,
         "cont7": 0.5162936922507696,
         "cont8": 0.5949281337360852,
         "cont9": 0.341439424508528,
         "cont10": 0.9060134179783672,
         "cont11": 0.9217009201766488,
         "cont12": 0.2619752872959446,
         "cont13": 0.465082870912738,
         "target": 8.481232790694882,
         "_deepnote_index_column": 1
        },
        {
         "id": 3,
         "cat0": "A",
         "cat1": "A",
         "cat2": "A",
         "cat3": "C",
         "cat4": "B",
         "cat5": "D",
         "cat6": "A",
         "cat7": "D",
         "cat8": "A",
         "cat9": "F",
         "cont0": 0.7427082872569866,
         "cont1": 0.3103834352265466,
         "cont2": -0.0126728412603827,
         "cont3": 0.5769572988863132,
         "cont4": 0.2850738214235778,
         "cont5": 0.6506092529839795,
         "cont6": 0.375348379159325,
         "cont7": 0.9025673702374444,
         "cont8": 0.555204675889432,
         "cont9": 0.8435305613249466,
         "cont10": 0.7488088867426759,
         "cont11": 0.6201258905023955,
         "cont12": 0.5414735060540387,
         "cont13": 0.7638458315431937,
         "target": 8.364350599902433,
         "_deepnote_index_column": 2
        },
        {
         "id": 4,
         "cat0": "B",
         "cat1": "B",
         "cat2": "A",
         "cat3": "C",
         "cat4": "B",
         "cat5": "D",
         "cat6": "A",
         "cat7": "E",
         "cat8": "C",
         "cat9": "K",
         "cont0": 0.4295507741598181,
         "cont1": 0.6209977492953859,
         "cont2": 0.5779416457466471,
         "cont3": 0.2806102207178406,
         "cont4": 0.2846668348899803,
         "cont5": 0.6689795142770898,
         "cont6": 0.2390612061629885,
         "cont7": 0.7329484214770149,
         "cont8": 0.6796180054584104,
         "cont9": 0.5748439027361045,
         "cont10": 0.3460102223500694,
         "cont11": 0.7146104407086104,
         "cont12": 0.5401495890274749,
         "cont13": 0.2806819156222785,
         "target": 8.049253401382394,
         "_deepnote_index_column": 3
        },
        {
         "id": 6,
         "cat0": "A",
         "cat1": "A",
         "cat2": "A",
         "cat3": "C",
         "cat4": "B",
         "cat5": "D",
         "cat6": "A",
         "cat7": "E",
         "cat8": "A",
         "cat9": "N",
         "cont0": 1.0582910572135842,
         "cont1": 0.3674924450957861,
         "cont2": -0.0523886198242577,
         "cont3": 0.2324071043203325,
         "cont4": 0.287594967984976,
         "cont5": 0.6869641686895456,
         "cont6": 0.4206673854428089,
         "cont7": 0.6481823292758594,
         "cont8": 0.6845011685240272,
         "cont9": 0.9566923871521644,
         "cont10": 1.0007730781904414,
         "cont11": 0.7767418735213948,
         "cont12": 0.6258486649081045,
         "cont13": 0.2508233899851028,
         "target": 7.972259905916037,
         "_deepnote_index_column": 4
        }
       ]
      },
      "text/plain": "   id cat0 cat1 cat2 cat3 cat4 cat5 cat6 cat7 cat8  ...     cont5     cont6  \\\n0   1    B    B    B    C    B    B    A    E    C  ...  0.400361  0.160266   \n1   2    B    B    A    A    B    D    A    F    A  ...  0.533087  0.558922   \n2   3    A    A    A    C    B    D    A    D    A  ...  0.650609  0.375348   \n3   4    B    B    A    C    B    D    A    E    C  ...  0.668980  0.239061   \n4   6    A    A    A    C    B    D    A    E    A  ...  0.686964  0.420667   \n\n      cont7     cont8     cont9    cont10    cont11    cont12    cont13  \\\n0  0.310921  0.389470  0.267559  0.237281  0.377873  0.322401  0.869850   \n1  0.516294  0.594928  0.341439  0.906013  0.921701  0.261975  0.465083   \n2  0.902567  0.555205  0.843531  0.748809  0.620126  0.541474  0.763846   \n3  0.732948  0.679618  0.574844  0.346010  0.714610  0.540150  0.280682   \n4  0.648182  0.684501  0.956692  1.000773  0.776742  0.625849  0.250823   \n\n     target  \n0  8.113634  \n1  8.481233  \n2  8.364351  \n3  8.049253  \n4  7.972260  \n\n[5 rows x 26 columns]",
      "text/html": "<div>\n<style scoped>\n    .dataframe tbody tr th:only-of-type {\n        vertical-align: middle;\n    }\n\n    .dataframe tbody tr th {\n        vertical-align: top;\n    }\n\n    .dataframe thead th {\n        text-align: right;\n    }\n</style>\n<table border=\"1\" class=\"dataframe\">\n  <thead>\n    <tr style=\"text-align: right;\">\n      <th></th>\n      <th>id</th>\n      <th>cat0</th>\n      <th>cat1</th>\n      <th>cat2</th>\n      <th>cat3</th>\n      <th>cat4</th>\n      <th>cat5</th>\n      <th>cat6</th>\n      <th>cat7</th>\n      <th>cat8</th>\n      <th>...</th>\n      <th>cont5</th>\n      <th>cont6</th>\n      <th>cont7</th>\n      <th>cont8</th>\n      <th>cont9</th>\n      <th>cont10</th>\n      <th>cont11</th>\n      <th>cont12</th>\n      <th>cont13</th>\n      <th>target</th>\n    </tr>\n  </thead>\n  <tbody>\n    <tr>\n      <th>0</th>\n      <td>1</td>\n      <td>B</td>\n      <td>B</td>\n      <td>B</td>\n      <td>C</td>\n      <td>B</td>\n      <td>B</td>\n      <td>A</td>\n      <td>E</td>\n      <td>C</td>\n      <td>...</td>\n      <td>0.400361</td>\n      <td>0.160266</td>\n      <td>0.310921</td>\n      <td>0.389470</td>\n      <td>0.267559</td>\n      <td>0.237281</td>\n      <td>0.377873</td>\n      <td>0.322401</td>\n      <td>0.869850</td>\n      <td>8.113634</td>\n    </tr>\n    <tr>\n      <th>1</th>\n      <td>2</td>\n      <td>B</td>\n      <td>B</td>\n      <td>A</td>\n      <td>A</td>\n      <td>B</td>\n      <td>D</td>\n      <td>A</td>\n      <td>F</td>\n      <td>A</td>\n      <td>...</td>\n      <td>0.533087</td>\n      <td>0.558922</td>\n      <td>0.516294</td>\n      <td>0.594928</td>\n      <td>0.341439</td>\n      <td>0.906013</td>\n      <td>0.921701</td>\n      <td>0.261975</td>\n      <td>0.465083</td>\n      <td>8.481233</td>\n    </tr>\n    <tr>\n      <th>2</th>\n      <td>3</td>\n      <td>A</td>\n      <td>A</td>\n      <td>A</td>\n      <td>C</td>\n      <td>B</td>\n      <td>D</td>\n      <td>A</td>\n      <td>D</td>\n      <td>A</td>\n      <td>...</td>\n      <td>0.650609</td>\n      <td>0.375348</td>\n      <td>0.902567</td>\n      <td>0.555205</td>\n      <td>0.843531</td>\n      <td>0.748809</td>\n      <td>0.620126</td>\n      <td>0.541474</td>\n      <td>0.763846</td>\n      <td>8.364351</td>\n    </tr>\n    <tr>\n      <th>3</th>\n      <td>4</td>\n      <td>B</td>\n      <td>B</td>\n      <td>A</td>\n      <td>C</td>\n      <td>B</td>\n      <td>D</td>\n      <td>A</td>\n      <td>E</td>\n      <td>C</td>\n      <td>...</td>\n      <td>0.668980</td>\n      <td>0.239061</td>\n      <td>0.732948</td>\n      <td>0.679618</td>\n      <td>0.574844</td>\n      <td>0.346010</td>\n      <td>0.714610</td>\n      <td>0.540150</td>\n      <td>0.280682</td>\n      <td>8.049253</td>\n    </tr>\n    <tr>\n      <th>4</th>\n      <td>6</td>\n      <td>A</td>\n      <td>A</td>\n      <td>A</td>\n      <td>C</td>\n      <td>B</td>\n      <td>D</td>\n      <td>A</td>\n      <td>E</td>\n      <td>A</td>\n      <td>...</td>\n      <td>0.686964</td>\n      <td>0.420667</td>\n      <td>0.648182</td>\n      <td>0.684501</td>\n      <td>0.956692</td>\n      <td>1.000773</td>\n      <td>0.776742</td>\n      <td>0.625849</td>\n      <td>0.250823</td>\n      <td>7.972260</td>\n    </tr>\n  </tbody>\n</table>\n<p>5 rows × 26 columns</p>\n</div>"
     },
     "metadata": {}
    }
   ],
   "execution_count": 4
  },
  {
   "cell_type": "code",
   "source": "df_train.target.hist()",
   "metadata": {
    "cell_id": "3e229d9ac4b94725b48c6320f8e6ab7e",
    "tags": [],
    "deepnote_to_be_reexecuted": false,
    "source_hash": "84fe541c",
    "execution_start": 1655306527439,
    "execution_millis": 1304,
    "deepnote_cell_type": "code",
    "deepnote_cell_height": 399.1875,
    "deepnote_output_heights": [
     21.1875,
     250
    ]
   },
   "outputs": [
    {
     "output_type": "execute_result",
     "execution_count": 5,
     "data": {
      "text/plain": "<AxesSubplot:>"
     },
     "metadata": {}
    },
    {
     "data": {
      "text/plain": "<Figure size 432x288 with 1 Axes>",
      "image/png": "[encoded data removed]"
     },
     "metadata": {
      "needs_background": "light",
      "image/png": {
       "width": 393,
       "height": 248
      }
     },
     "output_type": "display_data"
    }
   ],
   "execution_count": 5
  },
  {
   "cell_type": "markdown",
   "source": "cross validation",
   "metadata": {
    "cell_id": "9bb24dda925f4890b36ca996d5dfabe9",
    "tags": [],
    "deepnote_cell_type": "markdown",
    "deepnote_cell_height": 52.390625
   }
  },
  {
   "cell_type": "code",
   "source": "from sklearn.model_selection import KFold\n\nkf = KFold(n_splits=5)\ndf_train[\"kfold\"] = -1\n\nfor fold, (train_inddicies, valid_indicies) in enumerate(kf.split(X=df_train)):\n    df_train.loc [valid_indicies, \"kfold\"] = fold\n",
   "metadata": {
    "cell_id": "944b73d711b1437a97526a0104e5e24a",
    "tags": [],
    "deepnote_to_be_reexecuted": false,
    "source_hash": "72a5a1c4",
    "execution_start": 1655306528753,
    "execution_millis": 43,
    "deepnote_cell_type": "code",
    "deepnote_cell_height": 207
   },
   "outputs": [],
   "execution_count": 6
  },
  {
   "cell_type": "code",
   "source": "X, y = df_train.drop(\"target\", axis=1), df_train.target",
   "metadata": {
    "cell_id": "0a6514f2aab44f5787d26205cb3625a9",
    "tags": [],
    "deepnote_to_be_reexecuted": false,
    "source_hash": "e2353d94",
    "execution_start": 1655306528804,
    "execution_millis": 43,
    "deepnote_cell_type": "code",
    "deepnote_cell_height": 81
   },
   "outputs": [],
   "execution_count": 7
  },
  {
   "cell_type": "code",
   "source": "# check distribution in folds\n# df_train[df_train.kfold == 4].target.hist()",
   "metadata": {
    "cell_id": "ed3c4e400d514bfb9dc5771f0b4512fb",
    "tags": [],
    "deepnote_to_be_reexecuted": false,
    "source_hash": "ea6c8951",
    "execution_start": 1655306636931,
    "execution_millis": 275,
    "deepnote_cell_type": "code",
    "deepnote_cell_height": 419.1875,
    "deepnote_output_heights": [
     21.1875,
     252
    ]
   },
   "outputs": [
    {
     "output_type": "execute_result",
     "execution_count": 14,
     "data": {
      "text/plain": "<AxesSubplot:>"
     },
     "metadata": {}
    },
    {
     "data": {
      "text/plain": "<Figure size 432x288 with 1 Axes>",
      "image/png": "[encoded data removed]"
     },
     "metadata": {
      "needs_background": "light",
      "image/png": {
       "width": 387,
       "height": 250
      }
     },
     "output_type": "display_data"
    }
   ],
   "execution_count": 14
  },
  {
   "cell_type": "code",
   "metadata": {
    "cell_id": "6bd1ee04aad24084b5884ba1ceca5900",
    "tags": [],
    "deepnote_to_be_reexecuted": false,
    "source_hash": "b2c124fa",
    "execution_start": 1655306777904,
    "execution_millis": 6862,
    "owner_user_id": "e585054d-6bb8-42b6-830c-74e53ff767e9",
    "deepnote_cell_type": "code",
    "deepnote_cell_height": 144
   },
   "source": "df_train.to_csv(\"../data/output/01_train_folds.csv\")",
   "execution_count": 15,
   "outputs": []
  },
  {
   "cell_type": "markdown",
   "source": "<a style='text-decoration:none;line-height:16px;display:flex;color:#5B5B62;padding:10px;justify-content:end;' href='https://deepnote.com?utm_source=created-in-deepnote-cell&projectId=b4e40210-318e-4fc2-b449-7d1429e24cee' target=\"_blank\">\n<img alt='Created in deepnote.com' style='display:inline;max-height:16px;margin:0px;margin-right:7.5px;' src='data:image/svg+xml;base64,PD94bWwgdmVyc2lvbj0iMS4wIiBlbmNvZGluZz0iVVRGLTgiPz4KPHN2ZyB3aWR0aD0iODBweCIgaGVpZ2h0PSI4MHB4IiB2aWV3Qm94PSIwIDAgODAgODAiIHZlcnNpb249IjEuMSIgeG1sbnM9Imh0dHA6Ly93d3cudzMub3JnLzIwMDAvc3ZnIiB4bWxuczp4bGluaz0iaHR0cDovL3d3dy53My5vcmcvMTk5OS94bGluayI+CiAgICA8IS0tIEdlbmVyYXRvcjogU2tldGNoIDU0LjEgKDc2NDkwKSAtIGh0dHBzOi8vc2tldGNoYXBwLmNvbSAtLT4KICAgIDx0aXRsZT5Hcm91cCAzPC90aXRsZT4KICAgIDxkZXNjPkNyZWF0ZWQgd2l0aCBTa2V0Y2guPC9kZXNjPgogICAgPGcgaWQ9IkxhbmRpbmciIHN0cm9rZT0ibm9uZSIgc3Ryb2tlLXdpZHRoPSIxIiBmaWxsPSJub25lIiBmaWxsLXJ1bGU9ImV2ZW5vZGQiPgogICAgICAgIDxnIGlkPSJBcnRib2FyZCIgdHJhbnNmb3JtPSJ0cmFuc2xhdGUoLTEyMzUuMDAwMDAwLCAtNzkuMDAwMDAwKSI+CiAgICAgICAgICAgIDxnIGlkPSJHcm91cC0zIiB0cmFuc2Zvcm09InRyYW5zbGF0ZSgxMjM1LjAwMDAwMCwgNzkuMDAwMDAwKSI+CiAgICAgICAgICAgICAgICA8cG9seWdvbiBpZD0iUGF0aC0yMCIgZmlsbD0iIzAyNjVCNCIgcG9pbnRzPSIyLjM3NjIzNzYyIDgwIDM4LjA0NzY2NjcgODAgNTcuODIxNzgyMiA3My44MDU3NTkyIDU3LjgyMTc4MjIgMzIuNzU5MjczOSAzOS4xNDAyMjc4IDMxLjY4MzE2ODMiPjwvcG9seWdvbj4KICAgICAgICAgICAgICAgIDxwYXRoIGQ9Ik0zNS4wMDc3MTgsODAgQzQyLjkwNjIwMDcsNzYuNDU0OTM1OCA0Ny41NjQ5MTY3LDcxLjU0MjI2NzEgNDguOTgzODY2LDY1LjI2MTk5MzkgQzUxLjExMjI4OTksNTUuODQxNTg0MiA0MS42NzcxNzk1LDQ5LjIxMjIyODQgMjUuNjIzOTg0Niw0OS4yMTIyMjg0IEMyNS40ODQ5Mjg5LDQ5LjEyNjg0NDggMjkuODI2MTI5Niw0My4yODM4MjQ4IDM4LjY0NzU4NjksMzEuNjgzMTY4MyBMNzIuODcxMjg3MSwzMi41NTQ0MjUgTDY1LjI4MDk3Myw2Ny42NzYzNDIxIEw1MS4xMTIyODk5LDc3LjM3NjE0NCBMMzUuMDA3NzE4LDgwIFoiIGlkPSJQYXRoLTIyIiBmaWxsPSIjMDAyODY4Ij48L3BhdGg+CiAgICAgICAgICAgICAgICA8cGF0aCBkPSJNMCwzNy43MzA0NDA1IEwyNy4xMTQ1MzcsMC4yNTcxMTE0MzYgQzYyLjM3MTUxMjMsLTEuOTkwNzE3MDEgODAsMTAuNTAwMzkyNyA4MCwzNy43MzA0NDA1IEM4MCw2NC45NjA0ODgyIDY0Ljc3NjUwMzgsNzkuMDUwMzQxNCAzNC4zMjk1MTEzLDgwIEM0Ny4wNTUzNDg5LDc3LjU2NzA4MDggNTMuNDE4MjY3Nyw3MC4zMTM2MTAzIDUzLjQxODI2NzcsNTguMjM5NTg4NSBDNTMuNDE4MjY3Nyw0MC4xMjg1NTU3IDM2LjMwMzk1NDQsMzcuNzMwNDQwNSAyNS4yMjc0MTcsMzcuNzMwNDQwNSBDMTcuODQzMDU4NiwzNy43MzA0NDA1IDkuNDMzOTE5NjYsMzcuNzMwNDQwNSAwLDM3LjczMDQ0MDUgWiIgaWQ9IlBhdGgtMTkiIGZpbGw9IiMzNzkzRUYiPjwvcGF0aD4KICAgICAgICAgICAgPC9nPgogICAgICAgIDwvZz4KICAgIDwvZz4KPC9zdmc+' > </img>\nCreated in <span style='font-weight:600;margin-left:4px;'>Deepnote</span></a>",
   "metadata": {
    "tags": [],
    "created_in_deepnote_cell": true,
    "deepnote_cell_type": "markdown"
   }
  }
 ],
 "nbformat": 4,
 "nbformat_minor": 2,
 "metadata": {
  "orig_nbformat": 2,
  "deepnote": {},
  "deepnote_notebook_id": "d90f756d-77cf-4e95-96b9-9f611241e99e",
  "deepnote_execution_queue": []
 }
}